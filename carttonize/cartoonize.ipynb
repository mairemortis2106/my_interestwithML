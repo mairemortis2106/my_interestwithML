{
 "cells": [
  {
   "cell_type": "code",
   "execution_count": 4,
   "metadata": {},
   "outputs": [
    {
     "name": "stderr",
     "output_type": "stream",
     "text": [
      "c:\\Users\\alam\\AppData\\Local\\Programs\\Python\\Python311\\Lib\\site-packages\\tqdm\\auto.py:21: TqdmWarning: IProgress not found. Please update jupyter and ipywidgets. See https://ipywidgets.readthedocs.io/en/stable/user_install.html\n",
      "  from .autonotebook import tqdm as notebook_tqdm\n",
      "Cannot initialize model with low cpu memory usage because `accelerate` was not found in the environment. Defaulting to `low_cpu_mem_usage=False`. It is strongly recommended to install `accelerate` for faster and less memory-intense model loading. You can do so with: \n",
      "```\n",
      "pip install accelerate\n",
      "```\n",
      ".\n",
      "c:\\Users\\alam\\AppData\\Local\\Programs\\Python\\Python311\\Lib\\site-packages\\huggingface_hub\\file_download.py:147: UserWarning: `huggingface_hub` cache-system uses symlinks by default to efficiently store duplicated files but your machine does not support them in C:\\Users\\alam\\.cache\\huggingface\\hub\\models--instruction-tuning-sd--cartoonizer. Caching files will still work but in a degraded version that might require more space on your disk. This warning can be disabled by setting the `HF_HUB_DISABLE_SYMLINKS_WARNING` environment variable. For more details, see https://huggingface.co/docs/huggingface_hub/how-to-cache#limitations.\n",
      "To support symlinks on Windows, you either need to activate Developer Mode or to run Python as an administrator. In order to activate developer mode, see this article: https://docs.microsoft.com/en-us/windows/apps/get-started/enable-your-device-for-development\n",
      "  warnings.warn(message)\n",
      "safety_checker\\model.safetensors not found\n",
      "Fetching 15 files:   7%|▋         | 1/15 [00:01<00:23,  1.66s/it]Error while downloading from https://cdn-lfs.hf.co/repos/c7/cf/c7cf358e3378422e2eb9eb4b1a5e43a171c70946f7eb720525fa364836795b61/aad0e7cec126b7ee2a36e52fef25ffc4a8c41ff0b2c7a1cd07f5e693680edab5?response-content-disposition=inline%3B+filename*%3DUTF-8%27%27pytorch_model.bin%3B+filename%3D%22pytorch_model.bin%22%3B&response-content-type=application%2Foctet-stream&Expires=1727690157&Policy=eyJTdGF0ZW1lbnQiOlt7IkNvbmRpdGlvbiI6eyJEYXRlTGVzc1RoYW4iOnsiQVdTOkVwb2NoVGltZSI6MTcyNzY5MDE1N319LCJSZXNvdXJjZSI6Imh0dHBzOi8vY2RuLWxmcy5oZi5jby9yZXBvcy9jNy9jZi9jN2NmMzU4ZTMzNzg0MjJlMmViOWViNGIxYTVlNDNhMTcxYzcwOTQ2ZjdlYjcyMDUyNWZhMzY0ODM2Nzk1YjYxL2FhZDBlN2NlYzEyNmI3ZWUyYTM2ZTUyZmVmMjVmZmM0YThjNDFmZjBiMmM3YTFjZDA3ZjVlNjkzNjgwZWRhYjU%7EcmVzcG9uc2UtY29udGVudC1kaXNwb3NpdGlvbj0qJnJlc3BvbnNlLWNvbnRlbnQtdHlwZT0qIn1dfQ__&Signature=agK-VB7GPuYKwQevUW34hRZSkpwGOPEVIC5qB-60jgYBWLxeTQCJdF8YKBV-RT4qhmaJryD-MeB-VX35-JQsY4V1BiUOU8l-M1YwcC9p1tTs4MbXy-Jluf-JCNzg6gtbk5D7nA1WFBao-ZIYrL2avSFRU4zAahy1J1%7Em%7EKXXzX3XtzvVux68JKZ2xz1V2xrmaC3TcasVMZl%7ECL6jhzv7l4dP0XO6qiNzMXf74b2XFZo2WYIFwtAlh2L5IuGZCqYqUaT3amJ%7EqfPt-vD5Yis8a4pWbKxfi1Xf58MhG4ZfvKWHb3grtd1ogn2VtM-qCXdRBWFngWOGrmYvQ4S6GCd7GQ__&Key-Pair-Id=K3RPWS32NSSJCE: HTTPSConnectionPool(host='cdn-lfs.hf.co', port=443): Read timed out.\n",
      "Trying to resume download...\n",
      "Error while downloading from https://cdn-lfs.hf.co/repos/c7/cf/c7cf358e3378422e2eb9eb4b1a5e43a171c70946f7eb720525fa364836795b61/16d28f2b37109f222cdc33620fdd262102ac32112be0352a7f77e9614b35a394?response-content-disposition=inline%3B+filename*%3DUTF-8%27%27pytorch_model.bin%3B+filename%3D%22pytorch_model.bin%22%3B&response-content-type=application%2Foctet-stream&Expires=1727690157&Policy=eyJTdGF0ZW1lbnQiOlt7IkNvbmRpdGlvbiI6eyJEYXRlTGVzc1RoYW4iOnsiQVdTOkVwb2NoVGltZSI6MTcyNzY5MDE1N319LCJSZXNvdXJjZSI6Imh0dHBzOi8vY2RuLWxmcy5oZi5jby9yZXBvcy9jNy9jZi9jN2NmMzU4ZTMzNzg0MjJlMmViOWViNGIxYTVlNDNhMTcxYzcwOTQ2ZjdlYjcyMDUyNWZhMzY0ODM2Nzk1YjYxLzE2ZDI4ZjJiMzcxMDlmMjIyY2RjMzM2MjBmZGQyNjIxMDJhYzMyMTEyYmUwMzUyYTdmNzdlOTYxNGIzNWEzOTQ%7EcmVzcG9uc2UtY29udGVudC1kaXNwb3NpdGlvbj0qJnJlc3BvbnNlLWNvbnRlbnQtdHlwZT0qIn1dfQ__&Signature=jwPvKNQKCW4zm5gXCADG1hrMJMY6m8IXEiAKSQNclVvjaAKZ0AQItGc5RLKbdXuCMPyt8wHrUEt1UBwkG-Z3L5gJDdnm5RT2BbZITKm8evFV5-VuU5wY%7EqKdU1BJFjCc7dASaKEJTLmyUpxat8Zun6PxdhItodvcPg7qPQiRAeIrcnNQYGU1qvpOaXutjiegIpBswdmaTnYM-I6hPiLyIXl8L-QWH6GUaH4uTOl4quAwEo0kXv5ZsJRr7GpE3sClohHjs%7E6r2VfRR09vzeZss6gc4daVCtveb8ui5Qfh580HxiEU0kgnEprtOJ%7Euq1XjT5j5FDbbwtE-zUbo1bleig__&Key-Pair-Id=K3RPWS32NSSJCE: HTTPSConnectionPool(host='cdn-lfs.hf.co', port=443): Read timed out.\n",
      "Trying to resume download...\n",
      "Error while downloading from https://cdn-lfs.hf.co/repos/c7/cf/c7cf358e3378422e2eb9eb4b1a5e43a171c70946f7eb720525fa364836795b61/e9b6afa263fe85a2f7408a51b9d3052351a18f8eb86e8c364eb542bfe2161d7d?response-content-disposition=inline%3B+filename*%3DUTF-8%27%27diffusion_pytorch_model.bin%3B+filename%3D%22diffusion_pytorch_model.bin%22%3B&response-content-type=application%2Foctet-stream&Expires=1727690158&Policy=eyJTdGF0ZW1lbnQiOlt7IkNvbmRpdGlvbiI6eyJEYXRlTGVzc1RoYW4iOnsiQVdTOkVwb2NoVGltZSI6MTcyNzY5MDE1OH19LCJSZXNvdXJjZSI6Imh0dHBzOi8vY2RuLWxmcy5oZi5jby9yZXBvcy9jNy9jZi9jN2NmMzU4ZTMzNzg0MjJlMmViOWViNGIxYTVlNDNhMTcxYzcwOTQ2ZjdlYjcyMDUyNWZhMzY0ODM2Nzk1YjYxL2U5YjZhZmEyNjNmZTg1YTJmNzQwOGE1MWI5ZDMwNTIzNTFhMThmOGViODZlOGMzNjRlYjU0MmJmZTIxNjFkN2Q%7EcmVzcG9uc2UtY29udGVudC1kaXNwb3NpdGlvbj0qJnJlc3BvbnNlLWNvbnRlbnQtdHlwZT0qIn1dfQ__&Signature=ZG9MKaNeEnOfyAnzzOqE8TjlHdJVpC0EJfURgce1-59P%7EHaa-NN0nt2Prfe5lX2p1EbEzxu9fMuMpuWMaQ5UeK7LU8bUknl9rwIguDaVhmTpIItw4TdY5R0IMrv6tF5eLegdtg4AHucEzavZCg8slaR7cbpteAZ2BAOEgqNGatoMg0QNstY7CDVt5lN8XbPGhVDsXtsHMiGPQDN0Gj-FbdauMw8Zg-VU3uYJx%7EsXCKZp8FrIO8gQKLDfrem0qM5eAjdVqXkdsY68BtszkVeSq3PFYYVDE2Sa2QZbtGFH167jB1%7EmqsOm2y2EEO6uETYnKaGWmKcxFF4u5TF77sbtrQ__&Key-Pair-Id=K3RPWS32NSSJCE: HTTPSConnectionPool(host='cdn-lfs.hf.co', port=443): Read timed out.\n",
      "Trying to resume download...\n"
     ]
    }
   ],
   "source": [
    "import torch\n",
    "from diffusers import StableDiffusionInstructPix2PixPipeline\n",
    "from diffusers.utils import load_image\n",
    "\n",
    "model_id = \"instruction-tuning-sd/cartoonizer\"\n",
    "pipeline = StableDiffusionInstructPix2PixPipeline.from_pretrained(\n",
    "    model_id, torch_dtype=torch.float16, use_auth_token=True\n",
    ").to(\"cuda\")\n",
    "\n",
    "image_path = \"https://hf.co/datasets/diffusers/diffusers-images-docs/resolve/main/mountain.png\"\n",
    "image = load_image(image_path)\n",
    "\n",
    "image = pipeline(\"Cartoonize the following image\", image=image).images[0]\n",
    "image.save(\"image.png\")\n"
   ]
  }
 ],
 "metadata": {
  "kernelspec": {
   "display_name": "Python 3",
   "language": "python",
   "name": "python3"
  },
  "language_info": {
   "codemirror_mode": {
    "name": "ipython",
    "version": 3
   },
   "file_extension": ".py",
   "mimetype": "text/x-python",
   "name": "python",
   "nbconvert_exporter": "python",
   "pygments_lexer": "ipython3",
   "version": "3.11.5"
  }
 },
 "nbformat": 4,
 "nbformat_minor": 2
}
