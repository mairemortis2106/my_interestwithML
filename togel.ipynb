{
 "cells": [
  {
   "cell_type": "code",
   "execution_count": 411,
   "metadata": {},
   "outputs": [
    {
     "name": "stdout",
     "output_type": "stream",
     "text": [
      "<class 'pandas.core.frame.DataFrame'>\n",
      "RangeIndex: 1161 entries, 0 to 1160\n",
      "Data columns (total 4 columns):\n",
      " #   Column        Non-Null Count  Dtype         \n",
      "---  ------        --------------  -----         \n",
      " 0   TANGGAL       1161 non-null   datetime64[ns]\n",
      " 1   HARI          1161 non-null   object        \n",
      " 2   PERIODE       1161 non-null   int64         \n",
      " 3   NOMOR KELUAR  1161 non-null   int64         \n",
      "dtypes: datetime64[ns](1), int64(2), object(1)\n",
      "memory usage: 36.4+ KB\n"
     ]
    }
   ],
   "source": [
    "import pandas as pd\n",
    "from random import randint\n",
    "\n",
    "data = pd.read_excel('dataset/togel-hongkong.xlsx')\n",
    "\n",
    "data.info()"
   ]
  },
  {
   "cell_type": "code",
   "execution_count": 414,
   "metadata": {},
   "outputs": [
    {
     "data": {
      "text/html": [
       "<div>\n",
       "<style scoped>\n",
       "    .dataframe tbody tr th:only-of-type {\n",
       "        vertical-align: middle;\n",
       "    }\n",
       "\n",
       "    .dataframe tbody tr th {\n",
       "        vertical-align: top;\n",
       "    }\n",
       "\n",
       "    .dataframe thead th {\n",
       "        text-align: right;\n",
       "    }\n",
       "</style>\n",
       "<table border=\"1\" class=\"dataframe\">\n",
       "  <thead>\n",
       "    <tr style=\"text-align: right;\">\n",
       "      <th></th>\n",
       "      <th>TANGGAL</th>\n",
       "      <th>HARI</th>\n",
       "      <th>PERIODE</th>\n",
       "      <th>NOMOR KELUAR</th>\n",
       "    </tr>\n",
       "  </thead>\n",
       "  <tbody>\n",
       "    <tr>\n",
       "      <th>0</th>\n",
       "      <td>2024-09-23 23:03:25</td>\n",
       "      <td>senin</td>\n",
       "      <td>1161</td>\n",
       "      <td>8510</td>\n",
       "    </tr>\n",
       "    <tr>\n",
       "      <th>1</th>\n",
       "      <td>2024-09-22 23:03:25</td>\n",
       "      <td>Minggu</td>\n",
       "      <td>1160</td>\n",
       "      <td>5938</td>\n",
       "    </tr>\n",
       "    <tr>\n",
       "      <th>2</th>\n",
       "      <td>2024-09-21 23:03:25</td>\n",
       "      <td>Sabtu</td>\n",
       "      <td>1159</td>\n",
       "      <td>4194</td>\n",
       "    </tr>\n",
       "    <tr>\n",
       "      <th>3</th>\n",
       "      <td>2024-09-20 23:04:32</td>\n",
       "      <td>Jumat</td>\n",
       "      <td>1158</td>\n",
       "      <td>7388</td>\n",
       "    </tr>\n",
       "    <tr>\n",
       "      <th>4</th>\n",
       "      <td>2024-09-19 23:03:49</td>\n",
       "      <td>Kamis</td>\n",
       "      <td>1157</td>\n",
       "      <td>3247</td>\n",
       "    </tr>\n",
       "    <tr>\n",
       "      <th>...</th>\n",
       "      <td>...</td>\n",
       "      <td>...</td>\n",
       "      <td>...</td>\n",
       "      <td>...</td>\n",
       "    </tr>\n",
       "    <tr>\n",
       "      <th>1156</th>\n",
       "      <td>2021-07-25 20:24:04</td>\n",
       "      <td>Minggu</td>\n",
       "      <td>5</td>\n",
       "      <td>4359</td>\n",
       "    </tr>\n",
       "    <tr>\n",
       "      <th>1157</th>\n",
       "      <td>2021-07-24 20:23:26</td>\n",
       "      <td>Sabtu</td>\n",
       "      <td>4</td>\n",
       "      <td>8920</td>\n",
       "    </tr>\n",
       "    <tr>\n",
       "      <th>1158</th>\n",
       "      <td>2021-07-23 20:23:00</td>\n",
       "      <td>Jumat</td>\n",
       "      <td>3</td>\n",
       "      <td>2805</td>\n",
       "    </tr>\n",
       "    <tr>\n",
       "      <th>1159</th>\n",
       "      <td>2021-07-22 20:22:36</td>\n",
       "      <td>Kamis</td>\n",
       "      <td>2</td>\n",
       "      <td>6353</td>\n",
       "    </tr>\n",
       "    <tr>\n",
       "      <th>1160</th>\n",
       "      <td>2021-07-21 20:22:05</td>\n",
       "      <td>Rabu</td>\n",
       "      <td>1</td>\n",
       "      <td>3570</td>\n",
       "    </tr>\n",
       "  </tbody>\n",
       "</table>\n",
       "<p>1161 rows × 4 columns</p>\n",
       "</div>"
      ],
      "text/plain": [
       "                 TANGGAL    HARI  PERIODE  NOMOR KELUAR\n",
       "0    2024-09-23 23:03:25   senin     1161          8510\n",
       "1    2024-09-22 23:03:25  Minggu     1160          5938\n",
       "2    2024-09-21 23:03:25   Sabtu     1159          4194\n",
       "3    2024-09-20 23:04:32   Jumat     1158          7388\n",
       "4    2024-09-19 23:03:49   Kamis     1157          3247\n",
       "...                  ...     ...      ...           ...\n",
       "1156 2021-07-25 20:24:04  Minggu        5          4359\n",
       "1157 2021-07-24 20:23:26   Sabtu        4          8920\n",
       "1158 2021-07-23 20:23:00   Jumat        3          2805\n",
       "1159 2021-07-22 20:22:36   Kamis        2          6353\n",
       "1160 2021-07-21 20:22:05    Rabu        1          3570\n",
       "\n",
       "[1161 rows x 4 columns]"
      ]
     },
     "execution_count": 414,
     "metadata": {},
     "output_type": "execute_result"
    }
   ],
   "source": [
    "data"
   ]
  },
  {
   "cell_type": "code",
   "execution_count": 412,
   "metadata": {},
   "outputs": [
    {
     "data": {
      "text/plain": [
       "Text(0, 0.5, 'nomor')"
      ]
     },
     "execution_count": 412,
     "metadata": {},
     "output_type": "execute_result"
    },
    {
     "data": {
      "image/png": "[encoded data removed]",
      "text/plain": [
       "<Figure size 640x480 with 1 Axes>"
      ]
     },
     "metadata": {},
     "output_type": "display_data"
    }
   ],
   "source": [
    "import matplotlib.pyplot as plt\n",
    "\n",
    "x_plot = data.sort_values('PERIODE')['PERIODE']\n",
    "y_plot = data.sort_values('PERIODE')['NOMOR KELUAR']\n",
    "\n",
    "# Membuat plot\n",
    "plt.plot(x_plot, y_plot)\n",
    "\n",
    "# Memberi judul dan label sumbu\n",
    "plt.title(\"Plot x dan y\")\n",
    "plt.xlabel(\"periode\")\n",
    "plt.ylabel(\"nomor\")"
   ]
  },
  {
   "cell_type": "markdown",
   "metadata": {},
   "source": [
    "# create_sliding windows"
   ]
  },
  {
   "cell_type": "code",
   "execution_count": 415,
   "metadata": {},
   "outputs": [
    {
     "name": "stdout",
     "output_type": "stream",
     "text": [
      "1160    3570\n",
      "1159    6353\n",
      "1158    2805\n",
      "1157    8920\n",
      "1156    4359\n",
      "        ... \n",
      "104     3540\n",
      "103     1630\n",
      "102     4887\n",
      "101     6704\n",
      "100     3226\n",
      "Name: NOMOR KELUAR, Length: 1061, dtype: int64\n",
      "(1061,)\n"
     ]
    }
   ],
   "source": [
    "import numpy as np\n",
    "import pandas as pd\n",
    "from sklearn.linear_model import LinearRegression\n",
    "from sklearn.model_selection import train_test_split\n",
    "\n",
    "# Data deret waktu\n",
    "new_data = y_plot.head(1061)\n",
    "print(new_data)\n",
    "\n",
    "# Ukuran jendela\n",
    "w_size = [10,11,20,30,40,50,60]\n",
    "n_pred = 5\n",
    "print(new_data.shape)"
   ]
  },
  {
   "cell_type": "code",
   "execution_count": 390,
   "metadata": {},
   "outputs": [],
   "source": [
    "from sklearn.preprocessing import MinMaxScaler\n",
    "\n",
    "scaler = MinMaxScaler()\n",
    "scale = np.array(new_data).reshape(-1,1)\n",
    "sclae = scaler.fit_transform(scale)\n",
    "\n",
    "new_data_scale = pd.DataFrame(sclae, columns=['Scaled'])"
   ]
  },
  {
   "cell_type": "code",
   "execution_count": 391,
   "metadata": {},
   "outputs": [],
   "source": [
    "new_data_scale = new_data_scale.values.flatten()"
   ]
  },
  {
   "cell_type": "code",
   "execution_count": 393,
   "metadata": {},
   "outputs": [
    {
     "data": {
      "text/plain": [
       "array([0.35604616, 0.63532363, 0.27927747, ..., 0.16136478, 0.48820873,\n",
       "       0.67054691])"
      ]
     },
     "execution_count": 393,
     "metadata": {},
     "output_type": "execute_result"
    }
   ],
   "source": [
    "new_data_scale"
   ]
  },
  {
   "cell_type": "code",
   "execution_count": 416,
   "metadata": {},
   "outputs": [],
   "source": [
    "def create_sliding_window(data, window_size, n_predictions):\n",
    "    X, y = [], []\n",
    "    for i in range(len(data) - window_size - n_predictions + 1):\n",
    "        X.append(data[i:i + window_size])\n",
    "        y.append(data[i + window_size:i + window_size + n_predictions])\n",
    "    return np.array(X), np.array(y)\n",
    "\n",
    "# Membuat sliding window\n",
    "# X, y = create_sliding_window(new_data, window_size= w_size, n_predictions = n_pred)\n",
    "\n",
    "# print(\"X shape:\", X.shape)\n",
    "# print(\"y shape:\", y.shape)"
   ]
  },
  {
   "cell_type": "code",
   "execution_count": 227,
   "metadata": {},
   "outputs": [],
   "source": [
    "# Membagi data menjadi training dan testing\n",
    "# X_train, X_test, y_train, y_test = train_test_split(X, y, test_size=0.2, random_state=42)"
   ]
  },
  {
   "cell_type": "markdown",
   "metadata": {},
   "source": [
    "# budi ways"
   ]
  },
  {
   "cell_type": "code",
   "execution_count": 228,
   "metadata": {},
   "outputs": [],
   "source": [
    "# new_data = new_data.reshape(-1,1)\n",
    "# new_data.shape"
   ]
  },
  {
   "cell_type": "code",
   "execution_count": 229,
   "metadata": {},
   "outputs": [],
   "source": [
    "# SEQ_LEN = 21 # 6, 11, 21\n",
    "# SPLIT = 0.90 # 0.80, 0.90\n",
    "# WINDOW_SIZE = SEQ_LEN - 1"
   ]
  },
  {
   "cell_type": "code",
   "execution_count": 230,
   "metadata": {},
   "outputs": [],
   "source": [
    "# def to_sequences(data, seq_len):\n",
    "#     d = []\n",
    "#     for index in range(len(data) - seq_len):\n",
    "#         d.append(data[index: index + seq_len])\n",
    "#     return np.array(d)\n",
    "\n",
    "# def preprocess(data_raw, seq_len, train_split):\n",
    "#     data = to_sequences(data_raw, seq_len)\n",
    "#     num_train = int(train_split * data.shape[0])\n",
    "#     X_train = data[:num_train, :-1, :]\n",
    "#     y_train = data[:num_train, -1, :]\n",
    "#     X_test = data[num_train:, :-1, :]\n",
    "#     y_test = data[num_train:, -1, :]\n",
    "#     return X_train, y_train, X_test, y_test\n",
    "\n",
    "# X_train, y_train, X_test, y_test = preprocess(new_data, SEQ_LEN, train_split = SPLIT)"
   ]
  },
  {
   "cell_type": "code",
   "execution_count": 231,
   "metadata": {},
   "outputs": [],
   "source": [
    "# print (X_train)\n",
    "# print (y_train)\n",
    "# print (X_test)\n",
    "# print (y_test)"
   ]
  },
  {
   "cell_type": "markdown",
   "metadata": {},
   "source": [
    "# tes beberapa model"
   ]
  },
  {
   "cell_type": "code",
   "execution_count": 395,
   "metadata": {},
   "outputs": [],
   "source": [
    "from sklearn.metrics import mean_squared_error, mean_absolute_error\n",
    "from sklearn.ensemble import RandomForestRegressor\n",
    "from xgboost import XGBRegressor\n",
    "from xgboost import XGBRFRegressor\n",
    "import lightgbm as lgb\n",
    "\n",
    "\n",
    "\n",
    "def matrices(actual, predicted):\n",
    "    mse = mean_squared_error(actual, predicted)\n",
    "    mae = mean_absolute_error(actual, predicted)\n",
    "    rmse = np.sqrt(mse)\n",
    "    print(\"Mean Absolute Error for prediction :\", mae)\n",
    "    print(\"Mean Squared Error for prediction :\", mse)\n",
    "    print(\"Root Mean Squared Error for prediction :\", rmse)\n",
    "    return mae, mse, rmse\n",
    "\n",
    "def train (X_train, X_test, y_train, y_test,models):\n",
    "    for model_name, model in models.items():\n",
    "        model.fit(X_train, y_train)\n",
    "        y_pred = model.predict(X_test)\n",
    "        print(f\"Results for {model_name}:\")\n",
    "        matrices(y_test, y_pred)\n",
    "        print()  # Baris kosong untuk pemisah\n",
    "\n",
    "models = {\n",
    "    \"Linear Regression\": LinearRegression(),\n",
    "    \"Random Forest\": RandomForestRegressor(),\n",
    "    \"xgboost\": XGBRegressor(),\n",
    "    \"XgboostRF\": XGBRFRegressor()\n",
    "}"
   ]
  },
  {
   "cell_type": "code",
   "execution_count": 396,
   "metadata": {},
   "outputs": [
    {
     "name": "stdout",
     "output_type": "stream",
     "text": [
      "with w_size =  10\n",
      "Results for Linear Regression:\n",
      "Mean Absolute Error for prediction : 0.25360039058936323\n",
      "Mean Squared Error for prediction : 0.08529149726063878\n",
      "Root Mean Squared Error for prediction : 0.2920470805548975\n",
      "\n",
      "Results for Random Forest:\n",
      "Mean Absolute Error for prediction : 0.25670321649583067\n",
      "Mean Squared Error for prediction : 0.08766452043088568\n",
      "Root Mean Squared Error for prediction : 0.29608194884336614\n",
      "\n",
      "Results for xgboost:\n",
      "Mean Absolute Error for prediction : 0.27818965321549083\n",
      "Mean Squared Error for prediction : 0.11035260439247432\n",
      "Root Mean Squared Error for prediction : 0.33219362485224535\n",
      "\n",
      "Results for XgboostRF:\n",
      "Mean Absolute Error for prediction : 0.25635972784907957\n",
      "Mean Squared Error for prediction : 0.08787475791217063\n",
      "Root Mean Squared Error for prediction : 0.2964367688262889\n",
      "\n",
      "with w_size =  11\n",
      "Results for Linear Regression:\n",
      "Mean Absolute Error for prediction : 0.25396079487930895\n",
      "Mean Squared Error for prediction : 0.08580873821054748\n",
      "Root Mean Squared Error for prediction : 0.2929312858172501\n",
      "\n",
      "Results for Random Forest:\n",
      "Mean Absolute Error for prediction : 0.2567533160319492\n",
      "Mean Squared Error for prediction : 0.08835793022679492\n",
      "Root Mean Squared Error for prediction : 0.29725061854737145\n",
      "\n",
      "Results for xgboost:\n",
      "Mean Absolute Error for prediction : 0.2780366676427778\n",
      "Mean Squared Error for prediction : 0.10956735194245107\n",
      "Root Mean Squared Error for prediction : 0.3310095949401634\n",
      "\n",
      "Results for XgboostRF:\n",
      "Mean Absolute Error for prediction : 0.2587050624799184\n",
      "Mean Squared Error for prediction : 0.08955002063308251\n",
      "Root Mean Squared Error for prediction : 0.29924909462366384\n",
      "\n",
      "with w_size =  20\n",
      "Results for Linear Regression:\n",
      "Mean Absolute Error for prediction : 0.2589738060916773\n",
      "Mean Squared Error for prediction : 0.08797429107843902\n",
      "Root Mean Squared Error for prediction : 0.2966046039400586\n",
      "\n",
      "Results for Random Forest:\n",
      "Mean Absolute Error for prediction : 0.25808506117565316\n",
      "Mean Squared Error for prediction : 0.08851442067660213\n",
      "Root Mean Squared Error for prediction : 0.2975137319126667\n",
      "\n",
      "Results for xgboost:\n",
      "Mean Absolute Error for prediction : 0.28173521204317276\n",
      "Mean Squared Error for prediction : 0.11019199475378783\n",
      "Root Mean Squared Error for prediction : 0.3319517958285326\n",
      "\n",
      "Results for XgboostRF:\n",
      "Mean Absolute Error for prediction : 0.26148213784754787\n",
      "Mean Squared Error for prediction : 0.09066067954982375\n",
      "Root Mean Squared Error for prediction : 0.30109911914488185\n",
      "\n",
      "with w_size =  30\n",
      "Results for Linear Regression:\n",
      "Mean Absolute Error for prediction : 0.26242278301683786\n",
      "Mean Squared Error for prediction : 0.09142567320578676\n",
      "Root Mean Squared Error for prediction : 0.3023667858839439\n",
      "\n",
      "Results for Random Forest:\n",
      "Mean Absolute Error for prediction : 0.2596788682719615\n",
      "Mean Squared Error for prediction : 0.08916971593871581\n",
      "Root Mean Squared Error for prediction : 0.29861298688890914\n",
      "\n",
      "Results for xgboost:\n",
      "Mean Absolute Error for prediction : 0.27753242052952115\n",
      "Mean Squared Error for prediction : 0.10570596385010433\n",
      "Root Mean Squared Error for prediction : 0.3251245359090949\n",
      "\n",
      "Results for XgboostRF:\n",
      "Mean Absolute Error for prediction : 0.2600536104864247\n",
      "Mean Squared Error for prediction : 0.09012158482213814\n",
      "Root Mean Squared Error for prediction : 0.30020257297721176\n",
      "\n",
      "with w_size =  40\n",
      "Results for Linear Regression:\n",
      "Mean Absolute Error for prediction : 0.2530686588230552\n",
      "Mean Squared Error for prediction : 0.0864293971442401\n",
      "Root Mean Squared Error for prediction : 0.2939887704390086\n",
      "\n",
      "Results for Random Forest:\n",
      "Mean Absolute Error for prediction : 0.2503689216178192\n",
      "Mean Squared Error for prediction : 0.08364555642448065\n",
      "Root Mean Squared Error for prediction : 0.28921541526080635\n",
      "\n",
      "Results for xgboost:\n",
      "Mean Absolute Error for prediction : 0.2654242983641574\n",
      "Mean Squared Error for prediction : 0.10078823156057759\n",
      "Root Mean Squared Error for prediction : 0.31747162323675104\n",
      "\n",
      "Results for XgboostRF:\n",
      "Mean Absolute Error for prediction : 0.2531492625652032\n",
      "Mean Squared Error for prediction : 0.08630942477021894\n",
      "Root Mean Squared Error for prediction : 0.29378465713889645\n",
      "\n",
      "with w_size =  50\n",
      "Results for Linear Regression:\n",
      "Mean Absolute Error for prediction : 0.2593307646148638\n",
      "Mean Squared Error for prediction : 0.09247570197690222\n",
      "Root Mean Squared Error for prediction : 0.30409817818741075\n",
      "\n",
      "Results for Random Forest:\n",
      "Mean Absolute Error for prediction : 0.2539262696666054\n",
      "Mean Squared Error for prediction : 0.08737136535732418\n",
      "Root Mean Squared Error for prediction : 0.2955864769527256\n",
      "\n",
      "Results for xgboost:\n",
      "Mean Absolute Error for prediction : 0.27227777237346074\n",
      "Mean Squared Error for prediction : 0.10434637339823453\n",
      "Root Mean Squared Error for prediction : 0.3230268926857864\n",
      "\n",
      "Results for XgboostRF:\n",
      "Mean Absolute Error for prediction : 0.2555826626599519\n",
      "Mean Squared Error for prediction : 0.0885364067451411\n",
      "Root Mean Squared Error for prediction : 0.2975506792886568\n",
      "\n",
      "with w_size =  60\n",
      "Results for Linear Regression:\n",
      "Mean Absolute Error for prediction : 0.26157271556909023\n",
      "Mean Squared Error for prediction : 0.09055223616362067\n",
      "Root Mean Squared Error for prediction : 0.3009189860471098\n",
      "\n",
      "Results for Random Forest:\n",
      "Mean Absolute Error for prediction : 0.2587331490215755\n",
      "Mean Squared Error for prediction : 0.08812647584102111\n",
      "Root Mean Squared Error for prediction : 0.2968610379302429\n",
      "\n",
      "Results for xgboost:\n",
      "Mean Absolute Error for prediction : 0.2702026460864117\n",
      "Mean Squared Error for prediction : 0.0996767219826631\n",
      "Root Mean Squared Error for prediction : 0.3157162048148037\n",
      "\n",
      "Results for XgboostRF:\n",
      "Mean Absolute Error for prediction : 0.2588798242489896\n",
      "Mean Squared Error for prediction : 0.08838826558100862\n",
      "Root Mean Squared Error for prediction : 0.29730164073043497\n",
      "\n"
     ]
    }
   ],
   "source": [
    "for i in w_size:\n",
    "    X, y = create_sliding_window(new_data_scale, window_size= i, n_predictions = n_pred)\n",
    "    X_train, X_test, y_train, y_test = train_test_split(X, y, test_size=0.2, random_state=42)\n",
    "    print('with w_size = ',i)\n",
    "    train(X_train, X_test, y_train, y_test,models)\n"
   ]
  },
  {
   "cell_type": "markdown",
   "metadata": {},
   "source": [
    "# train with linear and rf with window 50 and 60 "
   ]
  },
  {
   "cell_type": "code",
   "execution_count": 418,
   "metadata": {},
   "outputs": [
    {
     "name": "stdout",
     "output_type": "stream",
     "text": [
      "99    7361\n",
      "98    5752\n",
      "97    8892\n",
      "96    8138\n",
      "95     340\n",
      "      ... \n",
      "4     3247\n",
      "3     7388\n",
      "2     4194\n",
      "1     5938\n",
      "0     8510\n",
      "Name: NOMOR KELUAR, Length: 100, dtype: int64\n",
      "[[5838  378 6760 8456 3965 1280 6034 8296 7122 4533  461 9070 1393 4118\n",
      "  5985  549 8074  963 5305 1490 7618 3843 6519  498 7267 9057 7116 3768\n",
      "  5976 8461 9647 2480 6091 4525 8145 3401 4982 2774 9690 6421 8508 1762\n",
      "  5213 3070 5714 3247 7388 4194 5938 8510]]\n",
      "Mean Absolute Error for prediction : 2590.3334137836528\n",
      "Mean Squared Error for prediction : 9185511.850297334\n",
      "Root Mean Squared Error for prediction : 3030.760935853789\n",
      "Prediksi nomor lotre selanjutnya: [[4125. 4005. 4404. 5464. 4086.]]\n"
     ]
    }
   ],
   "source": [
    "import numpy as np\n",
    "\n",
    "i = 50\n",
    "# Get the last 100 numbers\n",
    "tes = data.sort_values('PERIODE')['NOMOR KELUAR']\n",
    "tes = tes.tail(100)\n",
    "print(tes)\n",
    "# tes = tes.head(99)\n",
    "last_numbers = np.array(tes)\n",
    "\n",
    "# Ensure last_numbers has the correct size for prediction\n",
    "if last_numbers.shape[0] >= i:\n",
    "    # Reshape to (1, i) to match the input shape for the model\n",
    "    last_numbers = last_numbers[-i:].reshape(1, -1)  # Take the last i numbers\n",
    "else:\n",
    "    raise ValueError(\"Not enough numbers to make a prediction.\")\n",
    "\n",
    "print(last_numbers)\n",
    "\n",
    "# Create sliding window data\n",
    "X, y = create_sliding_window(new_data, window_size=i, n_predictions=n_pred)\n",
    "X_train, X_test, y_train, y_test = train_test_split(X, y, test_size=0.2, random_state=42)\n",
    "\n",
    "# Train the model\n",
    "model = LinearRegression()\n",
    "model.fit(X_train, y_train)\n",
    "\n",
    "# Predict using the test set\n",
    "y_pred = model.predict(X_test)\n",
    "matrices(y_test, y_pred)\n",
    "\n",
    "# Predict the next number using last_numbers\n",
    "predicted_number = model.predict(last_numbers)\n",
    "\n",
    "print(\"Prediksi nomor lotre selanjutnya:\", predicted_number.round())"
   ]
  },
  {
   "cell_type": "code",
   "execution_count": 452,
   "metadata": {},
   "outputs": [
    {
     "name": "stdout",
     "output_type": "stream",
     "text": [
      "[[5838  378 6760 8456 3965 1280 6034 8296 7122 4533  461 9070 1393 4118\n",
      "  5985  549 8074  963 5305 1490 7618 3843 6519  498 7267 9057 7116 3768\n",
      "  5976 8461 9647 2480 6091 4525 8145 3401 4982 2774 9690 6421 8508 1762\n",
      "  5213 3070 5714 3247 7388 4194 5938 8510]]\n",
      "Mean Absolute Error for prediction : 2536.6165841584175\n",
      "Mean Squared Error for prediction : 8667644.585970592\n",
      "Root Mean Squared Error for prediction : 2944.08637542627\n",
      "Prediksi nomor lotre selanjutnya: [[4066. 4988. 4939. 5415. 4755.]]\n"
     ]
    }
   ],
   "source": [
    "import numpy as np\n",
    "\n",
    "i = 50\n",
    "# Get the last 100 numbers\n",
    "new_data = y_plot[:1061]\n",
    "tes = data.sort_values('PERIODE')['NOMOR KELUAR']\n",
    "tes = tes[1061:]\n",
    "# tes = tes.head(99)\n",
    "last_numbers = np.array(tes)\n",
    "\n",
    "# Ensure last_numbers has the correct size for prediction\n",
    "if last_numbers.shape[0] >= i:\n",
    "    # Reshape to (1, i) to match the input shape for the model\n",
    "    last_numbers = last_numbers[-i:].reshape(1, -1)  # Take the last i numbers\n",
    "else:\n",
    "    raise ValueError(\"Not enough numbers to make a prediction.\")\n",
    "\n",
    "print(last_numbers)\n",
    "\n",
    "# Create sliding window data\n",
    "X, y = create_sliding_window(new_data, window_size=i, n_predictions=n_pred)\n",
    "X_train, X_test, y_train, y_test = train_test_split(X, y, test_size=0.2, random_state=42)\n",
    "\n",
    "# Train the model\n",
    "model = RandomForestRegressor()\n",
    "model.fit(X_train, y_train)\n",
    "\n",
    "# Predict using the test set\n",
    "y_pred = model.predict(X_test)\n",
    "matrices(y_test, y_pred)\n",
    "\n",
    "# Predict the next number using last_numbers\n",
    "predicted_number = model.predict(last_numbers)\n",
    "\n",
    "print(\"Prediksi nomor lotre selanjutnya:\", predicted_number.round())"
   ]
  },
  {
   "cell_type": "markdown",
   "metadata": {},
   "source": [
    "# pemecah angka"
   ]
  },
  {
   "cell_type": "code",
   "execution_count": 420,
   "metadata": {},
   "outputs": [],
   "source": [
    "import pandas as pd\n",
    "\n",
    "# Contoh dataframe dengan satu kolom angka\n",
    "data = pd.read_excel('dataset/togel-hongkong.xlsx')\n",
    "data = data.sort_values('PERIODE')\n",
    "\n",
    "pick_dat = data['NOMOR KELUAR']"
   ]
  },
  {
   "cell_type": "code",
   "execution_count": 421,
   "metadata": {},
   "outputs": [
    {
     "name": "stdout",
     "output_type": "stream",
     "text": [
      "1160    3570\n",
      "1159    6353\n",
      "1158    2805\n",
      "1157    8920\n",
      "1156    4359\n",
      "        ... \n",
      "4       3247\n",
      "3       7388\n",
      "2       4194\n",
      "1       5938\n",
      "0       8510\n",
      "Name: NOMOR KELUAR, Length: 1161, dtype: int64\n"
     ]
    }
   ],
   "source": [
    "print(pick_dat)"
   ]
  },
  {
   "cell_type": "code",
   "execution_count": 331,
   "metadata": {},
   "outputs": [],
   "source": [
    "# iff u want to add new number \n",
    "# pick_dat.loc[len(pick_dat)] = 5938"
   ]
  },
  {
   "cell_type": "code",
   "execution_count": 422,
   "metadata": {},
   "outputs": [
    {
     "name": "stdout",
     "output_type": "stream",
     "text": [
      "       0   1   2   3   4   5   6\n",
      "1160  03  05  53  37  35  75  50\n",
      "1159  36  53  35  63  65  33  56\n",
      "1158  85  05  58  20  02  52  50\n",
      "1157  98  90  09  20  08  80  29\n",
      "1156  94  93  53  35  49  39  59\n",
      "...   ..  ..  ..  ..  ..  ..  ..\n",
      "4     23  32  37  47  72  24  34\n",
      "3     78  37  38  88  83  87  73\n",
      "2     94  44  41  49  19  14  91\n",
      "1     93  98  85  53  58  35  39\n",
      "0     85  05  15  58  51  50  08\n",
      "\n",
      "[1161 rows x 7 columns]\n"
     ]
    },
    {
     "name": "stderr",
     "output_type": "stream",
     "text": [
      "C:\\Users\\alam\\AppData\\Local\\Temp\\ipykernel_49936\\836496408.py:16: SettingWithCopyWarning: \n",
      "A value is trying to be set on a copy of a slice from a DataFrame\n",
      "\n",
      "See the caveats in the documentation: https://pandas.pydata.org/pandas-docs/stable/user_guide/indexing.html#returning-a-view-versus-a-copy\n",
      "  pick_dat['kombinasi'] = pick_dat.apply(generate_combinations)\n"
     ]
    }
   ],
   "source": [
    "import itertools\n",
    "import random\n",
    "# Fungsi untuk menghasilkan kombinasi dua digit\n",
    "def generate_combinations(num):\n",
    "    num_str = str(num)\n",
    "    combinations = []\n",
    "    \n",
    "    # Mengambil setiap kombinasi dua digit\n",
    "    combinations = [''.join(pair) for pair in itertools.permutations(num_str, 2)]\n",
    "    unique_list = list(set(combinations))\n",
    "\n",
    "    return unique_list[:7]\n",
    "    # return six_num\n",
    "\n",
    "# Terapkan fungsi pada kolom 'angka'\n",
    "pick_dat['kombinasi'] = pick_dat.apply(generate_combinations)\n",
    "\n",
    "# Mengubah daftar kombinasi menjadi kolom-kolom\n",
    "kombinasi_df = pick_dat['kombinasi'].apply(pd.Series)\n",
    "\n",
    "# Menampilkan hasil\n",
    "print(kombinasi_df)\n"
   ]
  },
  {
   "cell_type": "code",
   "execution_count": 423,
   "metadata": {},
   "outputs": [],
   "source": [
    "kombinasi_df.to_excel('dataset/togel7.xlsx',index=False)"
   ]
  },
  {
   "cell_type": "markdown",
   "metadata": {},
   "source": [
    "# tes menggunakan data togel 7"
   ]
  },
  {
   "cell_type": "code",
   "execution_count": 424,
   "metadata": {},
   "outputs": [
    {
     "name": "stdout",
     "output_type": "stream",
     "text": [
      "<class 'pandas.core.frame.DataFrame'>\n",
      "RangeIndex: 1161 entries, 0 to 1160\n",
      "Data columns (total 7 columns):\n",
      " #   Column  Non-Null Count  Dtype  \n",
      "---  ------  --------------  -----  \n",
      " 0   0       1161 non-null   int64  \n",
      " 1   1       1160 non-null   float64\n",
      " 2   2       1155 non-null   float64\n",
      " 3   3       1109 non-null   float64\n",
      " 4   4       1088 non-null   float64\n",
      " 5   5       1088 non-null   float64\n",
      " 6   6       1001 non-null   float64\n",
      "dtypes: float64(6), int64(1)\n",
      "memory usage: 63.6 KB\n"
     ]
    }
   ],
   "source": [
    "nomor = pd.read_excel(\"dataset/togel7.xlsx\")\n",
    "\n",
    "nomor.info()"
   ]
  },
  {
   "cell_type": "code",
   "execution_count": 436,
   "metadata": {},
   "outputs": [
    {
     "name": "stdout",
     "output_type": "stream",
     "text": [
      "0    0\n",
      "1    0\n",
      "2    0\n",
      "3    0\n",
      "4    0\n",
      "5    0\n",
      "6    0\n",
      "dtype: int64\n",
      "after fill:\n",
      " 0    0\n",
      "1    0\n",
      "2    0\n",
      "3    0\n",
      "4    0\n",
      "5    0\n",
      "6    0\n",
      "dtype: int64\n"
     ]
    }
   ],
   "source": [
    "print(nomor.isna().sum())\n",
    "\n",
    "nomor =  nomor.fillna(0)\n",
    "\n",
    "print('after fill:\\n',nomor.isna().sum())"
   ]
  },
  {
   "cell_type": "code",
   "execution_count": 437,
   "metadata": {},
   "outputs": [],
   "source": [
    "data_flat = nomor.apply(lambda row: np.array(row), axis=1)\n",
    "data_flat = np.vstack(data_flat)  # Convert to a 2D array"
   ]
  },
  {
   "cell_type": "code",
   "execution_count": 448,
   "metadata": {},
   "outputs": [],
   "source": [
    "def create_sliding_window7(data, window_size, n_predictions):\n",
    "    X = []\n",
    "    y = []\n",
    "    for i in range(len(data) - window_size - n_predictions + 1):\n",
    "        X.append(data[i:i + window_size].flatten())  # Flatten the window\n",
    "        y.append(data[i + window_size:i + window_size + n_predictions].flatten())  # Target\n",
    "    return np.array(X), np.array(y)"
   ]
  },
  {
   "cell_type": "code",
   "execution_count": 449,
   "metadata": {},
   "outputs": [
    {
     "name": "stdout",
     "output_type": "stream",
     "text": [
      "(1061, 7)\n",
      "(100, 7)\n",
      "Mean Absolute Error for prediction : 25.143386138613863\n",
      "Mean Squared Error for prediction : 868.0923467609617\n",
      "Root Mean Squared Error for prediction : 29.463406910283844\n",
      "Prediksi nomor lotre selanjutnya: [34. 37. 38. 40. 42. 43. 44. 45. 46. 47. 49. 50. 51. 52. 53. 54. 55. 56.\n",
      " 57. 58.]\n"
     ]
    }
   ],
   "source": [
    "import numpy as np\n",
    "\n",
    "i = 50\n",
    "# new_data is 1060 data head \n",
    "new_data = data_flat[:1061]\n",
    "print(new_data.shape)\n",
    "# tes data is for making prediction... it is the last 100 data\n",
    "tes = data_flat[1061:]\n",
    "print(tes.shape)\n",
    "tes = tes[-i:].flatten().reshape(1, -1)\n",
    "\n",
    "X, y = create_sliding_window7(new_data, window_size=i, n_predictions=5)\n",
    "X_train, X_test, y_train, y_test = train_test_split(X, y, test_size=0.2, random_state=42)\n",
    "\n",
    "# Train the model\n",
    "model = RandomForestRegressor()\n",
    "model.fit(X_train, y_train)\n",
    "\n",
    "# Predict using the test set\n",
    "y_pred = model.predict(X_test)\n",
    "matrices(y_test, y_pred)\n",
    "\n",
    "# Predict the next number using last_numbers\n",
    "predicted_number = model.predict(tes)\n",
    "predicted_number = np.unique(predicted_number.round()) \n",
    "print(\"Prediksi nomor lotre selanjutnya:\", predicted_number)"
   ]
  },
  {
   "cell_type": "markdown",
   "metadata": {},
   "source": [
    "# train predict biasa dengan RF"
   ]
  },
  {
   "cell_type": "code",
   "execution_count": 345,
   "metadata": {},
   "outputs": [],
   "source": [
    "dat_train = nomor.head(1059)\n",
    "dat_test = nomor.tail(100)\n",
    "\n",
    "x = nomor.iloc[:,0:]\n",
    "y = "
   ]
  },
  {
   "cell_type": "code",
   "execution_count": 346,
   "metadata": {},
   "outputs": [
    {
     "data": {
      "text/html": [
       "<div>\n",
       "<style scoped>\n",
       "    .dataframe tbody tr th:only-of-type {\n",
       "        vertical-align: middle;\n",
       "    }\n",
       "\n",
       "    .dataframe tbody tr th {\n",
       "        vertical-align: top;\n",
       "    }\n",
       "\n",
       "    .dataframe thead th {\n",
       "        text-align: right;\n",
       "    }\n",
       "</style>\n",
       "<table border=\"1\" class=\"dataframe\">\n",
       "  <thead>\n",
       "    <tr style=\"text-align: right;\">\n",
       "      <th></th>\n",
       "      <th>0</th>\n",
       "      <th>1</th>\n",
       "      <th>2</th>\n",
       "      <th>3</th>\n",
       "      <th>4</th>\n",
       "      <th>5</th>\n",
       "      <th>6</th>\n",
       "    </tr>\n",
       "  </thead>\n",
       "  <tbody>\n",
       "    <tr>\n",
       "      <th>0</th>\n",
       "      <td>3</td>\n",
       "      <td>5.0</td>\n",
       "      <td>53.0</td>\n",
       "      <td>37.0</td>\n",
       "      <td>35.0</td>\n",
       "      <td>75.0</td>\n",
       "      <td>50.0</td>\n",
       "    </tr>\n",
       "    <tr>\n",
       "      <th>1</th>\n",
       "      <td>36</td>\n",
       "      <td>53.0</td>\n",
       "      <td>35.0</td>\n",
       "      <td>63.0</td>\n",
       "      <td>65.0</td>\n",
       "      <td>33.0</td>\n",
       "      <td>56.0</td>\n",
       "    </tr>\n",
       "    <tr>\n",
       "      <th>2</th>\n",
       "      <td>85</td>\n",
       "      <td>5.0</td>\n",
       "      <td>58.0</td>\n",
       "      <td>20.0</td>\n",
       "      <td>2.0</td>\n",
       "      <td>52.0</td>\n",
       "      <td>50.0</td>\n",
       "    </tr>\n",
       "    <tr>\n",
       "      <th>3</th>\n",
       "      <td>98</td>\n",
       "      <td>90.0</td>\n",
       "      <td>9.0</td>\n",
       "      <td>20.0</td>\n",
       "      <td>8.0</td>\n",
       "      <td>80.0</td>\n",
       "      <td>29.0</td>\n",
       "    </tr>\n",
       "    <tr>\n",
       "      <th>4</th>\n",
       "      <td>94</td>\n",
       "      <td>93.0</td>\n",
       "      <td>53.0</td>\n",
       "      <td>35.0</td>\n",
       "      <td>49.0</td>\n",
       "      <td>39.0</td>\n",
       "      <td>59.0</td>\n",
       "    </tr>\n",
       "    <tr>\n",
       "      <th>...</th>\n",
       "      <td>...</td>\n",
       "      <td>...</td>\n",
       "      <td>...</td>\n",
       "      <td>...</td>\n",
       "      <td>...</td>\n",
       "      <td>...</td>\n",
       "      <td>...</td>\n",
       "    </tr>\n",
       "    <tr>\n",
       "      <th>1155</th>\n",
       "      <td>75</td>\n",
       "      <td>15.0</td>\n",
       "      <td>17.0</td>\n",
       "      <td>51.0</td>\n",
       "      <td>41.0</td>\n",
       "      <td>71.0</td>\n",
       "      <td>47.0</td>\n",
       "    </tr>\n",
       "    <tr>\n",
       "      <th>1156</th>\n",
       "      <td>23</td>\n",
       "      <td>32.0</td>\n",
       "      <td>37.0</td>\n",
       "      <td>47.0</td>\n",
       "      <td>72.0</td>\n",
       "      <td>24.0</td>\n",
       "      <td>34.0</td>\n",
       "    </tr>\n",
       "    <tr>\n",
       "      <th>1157</th>\n",
       "      <td>78</td>\n",
       "      <td>37.0</td>\n",
       "      <td>38.0</td>\n",
       "      <td>88.0</td>\n",
       "      <td>83.0</td>\n",
       "      <td>87.0</td>\n",
       "      <td>73.0</td>\n",
       "    </tr>\n",
       "    <tr>\n",
       "      <th>1158</th>\n",
       "      <td>94</td>\n",
       "      <td>44.0</td>\n",
       "      <td>41.0</td>\n",
       "      <td>49.0</td>\n",
       "      <td>19.0</td>\n",
       "      <td>14.0</td>\n",
       "      <td>91.0</td>\n",
       "    </tr>\n",
       "    <tr>\n",
       "      <th>1159</th>\n",
       "      <td>93</td>\n",
       "      <td>98.0</td>\n",
       "      <td>85.0</td>\n",
       "      <td>53.0</td>\n",
       "      <td>58.0</td>\n",
       "      <td>35.0</td>\n",
       "      <td>39.0</td>\n",
       "    </tr>\n",
       "  </tbody>\n",
       "</table>\n",
       "<p>1160 rows × 7 columns</p>\n",
       "</div>"
      ],
      "text/plain": [
       "       0     1     2     3     4     5     6\n",
       "0      3   5.0  53.0  37.0  35.0  75.0  50.0\n",
       "1     36  53.0  35.0  63.0  65.0  33.0  56.0\n",
       "2     85   5.0  58.0  20.0   2.0  52.0  50.0\n",
       "3     98  90.0   9.0  20.0   8.0  80.0  29.0\n",
       "4     94  93.0  53.0  35.0  49.0  39.0  59.0\n",
       "...   ..   ...   ...   ...   ...   ...   ...\n",
       "1155  75  15.0  17.0  51.0  41.0  71.0  47.0\n",
       "1156  23  32.0  37.0  47.0  72.0  24.0  34.0\n",
       "1157  78  37.0  38.0  88.0  83.0  87.0  73.0\n",
       "1158  94  44.0  41.0  49.0  19.0  14.0  91.0\n",
       "1159  93  98.0  85.0  53.0  58.0  35.0  39.0\n",
       "\n",
       "[1160 rows x 7 columns]"
      ]
     },
     "execution_count": 346,
     "metadata": {},
     "output_type": "execute_result"
    }
   ],
   "source": [
    "x"
   ]
  },
  {
   "cell_type": "code",
   "execution_count": null,
   "metadata": {},
   "outputs": [],
   "source": []
  }
 ],
 "metadata": {
  "kernelspec": {
   "display_name": "Python 3",
   "language": "python",
   "name": "python3"
  },
  "language_info": {
   "codemirror_mode": {
    "name": "ipython",
    "version": 3
   },
   "file_extension": ".py",
   "mimetype": "text/x-python",
   "name": "python",
   "nbconvert_exporter": "python",
   "pygments_lexer": "ipython3",
   "version": "3.11.5"
  }
 },
 "nbformat": 4,
 "nbformat_minor": 2
}
