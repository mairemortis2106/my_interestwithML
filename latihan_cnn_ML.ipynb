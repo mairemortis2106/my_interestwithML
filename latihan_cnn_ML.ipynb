{
 "cells": [
  {
   "cell_type": "code",
   "execution_count": null,
   "metadata": {},
   "outputs": [],
   "source": [
    "import urllib.request\n",
    "import zipfile\n",
    "import tensorflow as tf\n",
    "import os\n",
    "from tensorflow.keras.optimizers import RMSprop\n",
    "from tensorflow.keras.preprocessing.image import ImageDataGenerator"
   ]
  },
  {
   "cell_type": "code",
   "execution_count": null,
   "metadata": {},
   "outputs": [],
   "source": [
    "# download data dari link yang ada\n",
    "data_url = 'https://github.com/dicodingacademy/assets/releases/download/release-rps/rps.zip'\n",
    "urllib.request.urlretrieve(data_url, 'rps.zip')\n",
    "local_file = 'rps.zip'\n",
    "zip_ref = zipfile.ZipFile(local_file, 'r')\n",
    "zip_ref.extractall('data/')\n",
    "zip_ref.close()"
   ]
  },
  {
   "cell_type": "code",
   "execution_count": null,
   "metadata": {},
   "outputs": [],
   "source": [
    "dir = \"data/rps/\"\n",
    "\n",
    "training_datagen = ImageDataGenerator(\n",
    "        rescale=1. / 255,\n",
    "        validation_split= # isi split dataset yang kalian inginkan  \n",
    "        # tammbah parameter yang diinginkan (wajib)\n",
    "    )\n",
    "validation_datagen = ImageDataGenerator(\n",
    "        rescale=1 / 255,\n",
    "    )\n",
    "\n",
    "train_generator = training_datagen.flow_from_directory(\n",
    "        directory=dir,\n",
    "        target_size=(150, 150),\n",
    "        color_mode='rgb',\n",
    "        class_mode='categorical',\n",
    "        subset='training' \n",
    "    )\n",
    "validation_generator = training_datagen.flow_from_directory(\n",
    "        directory=dir,\n",
    "        target_size=(150, 150),\n",
    "        color_mode='rgb',\n",
    "        class_mode='categorical',\n",
    "        subset='validation'\n",
    "    )\n",
    "\n",
    "model = tf.keras.models.Sequential([\n",
    "        # input_shape pada input layer berupa (150,150,3)\n",
    "        # YOUR CODE, taruh code kalian dan susun layer cnnnya, \n",
    "        # layer akhir haruslah berukuran 3 dan memiliki aktivasi sofmax (karena data memiliki 3 label)\n",
    "        # sudah ku kasih layer outputnya tinggal kalian bikin layer input dan sisanya smngt!!!\n",
    "        tf.keras.layers.Dense(3, activation='softmax')\n",
    "    ])\n",
    "model.compile(optimizer= #isi optimizer sesuka kalian,\n",
    "                  loss='categorical_crossentropy',\n",
    "                  metrics=['accuracy']\n",
    "                  )\n",
    "model.fit(\n",
    "        train_generator,\n",
    "        validation_data=validation_generator,\n",
    "        epochs= # isi jumlah epoch nya\n",
    "        batch_size= # isi jumlah batchnya\n",
    "        \n",
    "    )"
   ]
  },
  {
   "cell_type": "code",
   "execution_count": 1,
   "metadata": {},
   "outputs": [],
   "source": [
    "# simpan model kalian (buat method untuk menyimpan dalam format h5)\n",
    "# kumpulkan code ini beserta model h5 dan laporan nya dalam bentuk zip \n",
    "# jangan lupa beri laporan kalian berupa screen shoot hasil training (screen shoot epochnya) "
   ]
  }
 ],
 "metadata": {
  "kernelspec": {
   "display_name": "Python 3",
   "language": "python",
   "name": "python3"
  },
  "language_info": {
   "codemirror_mode": {
    "name": "ipython",
    "version": 3
   },
   "file_extension": ".py",
   "mimetype": "text/x-python",
   "name": "python",
   "nbconvert_exporter": "python",
   "pygments_lexer": "ipython3",
   "version": "3.11.5"
  }
 },
 "nbformat": 4,
 "nbformat_minor": 2
}
