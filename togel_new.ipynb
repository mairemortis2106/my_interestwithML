{
 "cells": [
  {
   "cell_type": "code",
   "execution_count": 15,
   "metadata": {},
   "outputs": [],
   "source": [
    "import pandas as pd\n",
    "from random import randint\n",
    "import numpy as np\n",
    "import pandas as pd\n",
    "from sklearn.linear_model import LinearRegression\n",
    "from sklearn.model_selection import train_test_split\n",
    "from sklearn.metrics import mean_squared_error, mean_absolute_error\n",
    "from sklearn.ensemble import RandomForestRegressor\n",
    "import itertools\n"
   ]
  },
  {
   "cell_type": "code",
   "execution_count": 16,
   "metadata": {},
   "outputs": [
    {
     "name": "stdout",
     "output_type": "stream",
     "text": [
      "<class 'pandas.core.frame.DataFrame'>\n",
      "Index: 1177 entries, 1176 to 0\n",
      "Data columns (total 4 columns):\n",
      " #   Column        Non-Null Count  Dtype         \n",
      "---  ------        --------------  -----         \n",
      " 0   TANGGAL       1177 non-null   datetime64[ns]\n",
      " 1   HARI          1177 non-null   object        \n",
      " 2   PERIODE       1177 non-null   int64         \n",
      " 3   NOMOR KELUAR  1177 non-null   int64         \n",
      "dtypes: datetime64[ns](1), int64(2), object(1)\n",
      "memory usage: 46.0+ KB\n",
      "None\n"
     ]
    }
   ],
   "source": [
    "import pandas as pd\n",
    "\n",
    "# Contoh dataframe dengan satu kolom angka\n",
    "data = pd.read_excel('dataset/togel-hongkong.xlsx')\n",
    "data = data.sort_values('PERIODE')\n",
    "print(data.info())\n",
    "\n",
    "pick_dat = data['NOMOR KELUAR']"
   ]
  },
  {
   "cell_type": "code",
   "execution_count": 17,
   "metadata": {},
   "outputs": [],
   "source": [
    "def create_sliding_window(data, window_size, n_predictions):\n",
    "    X, y = [], []\n",
    "    for i in range(len(data) - window_size - n_predictions + 1):\n",
    "        X.append(data[i:i + window_size])\n",
    "        y.append(data[i + window_size:i + window_size + n_predictions])\n",
    "    return np.array(X), np.array(y)\n",
    "\n",
    "def matrices(actual, predicted):\n",
    "    mse = mean_squared_error(actual, predicted)\n",
    "    mae = mean_absolute_error(actual, predicted)\n",
    "    rmse = np.sqrt(mse)\n",
    "    print(\"Mean Absolute Error for prediction :\", mae)\n",
    "    print(\"Mean Squared Error for prediction :\", mse)\n",
    "    print(\"Root Mean Squared Error for prediction :\", rmse)\n",
    "    return mae, mse, rmse\n",
    "\n",
    "# Fungsi untuk menghasilkan kombinasi dua digit\n",
    "def generate_combinations(num):\n",
    "    num_str = str(num)\n",
    "    combinations = []\n",
    "    \n",
    "    # Mengambil setiap kombinasi dua digit\n",
    "    combinations = [''.join(pair) for pair in itertools.permutations(num_str, 2)]\n",
    "    unique_list = list(set(combinations))\n",
    "\n",
    "    return unique_list[:7]\n",
    "\n",
    "\n",
    "def create_sliding_window7(data, window_size, n_predictions):\n",
    "    X = []\n",
    "    y = []\n",
    "    for i in range(len(data) - window_size - n_predictions + 1):\n",
    "        X.append(data[i:i + window_size].flatten())  # Flatten the window\n",
    "        y.append(data[i + window_size:i + window_size + n_predictions].flatten())  # Target\n",
    "    return np.array(X), np.array(y)"
   ]
  },
  {
   "cell_type": "code",
   "execution_count": 18,
   "metadata": {},
   "outputs": [
    {
     "name": "stdout",
     "output_type": "stream",
     "text": [
      "[[8074  963 5305 1490 7618 3843 6519  498 7267 9057 7116 3768 5976 8461\n",
      "  9647 2480 6091 4525 8145 3401 4982 2774 9690 6421 8508 1762 5213 3070\n",
      "  5714 3247 7388 4194 5938 8510 5188 1316 2992 3406 4349 7800 9697 9206\n",
      "  9240 8510 3402 3321 8436 8122 6330 3558]] \n",
      "\n",
      "\n",
      "Mean Absolute Error for prediction : 2544.8056000000006\n",
      "Mean Squared Error for prediction : 8582672.67683005\n",
      "Root Mean Squared Error for prediction : 2929.6198860654345\n",
      "Prediksi nomor lotre selanjutnya: [[4791. 4495. 4951. 4584. 4573.]] \n",
      "\n",
      "Mean Absolute Error for prediction : 2557.5095707317073\n",
      "Mean Squared Error for prediction : 8667402.48333883\n",
      "Root Mean Squared Error for prediction : 2944.04525837135\n",
      "Prediksi nomor lotre selanjutnya: [[4715. 5052. 4660. 4988. 4756.]] \n",
      "\n",
      "Mean Absolute Error for prediction : 2529.122390243902\n",
      "Mean Squared Error for prediction : 8534379.951030925\n",
      "Root Mean Squared Error for prediction : 2921.366110406384\n",
      "Prediksi nomor lotre selanjutnya: [[4829. 4578. 4902. 5047. 4608.]] \n",
      "\n",
      "Mean Absolute Error for prediction : 2537.7925658536597\n",
      "Mean Squared Error for prediction : 8544600.968527025\n",
      "Root Mean Squared Error for prediction : 2923.1149427497758\n",
      "Prediksi nomor lotre selanjutnya: [[4852. 4981. 5247. 5062. 5086.]] \n",
      "\n",
      "Mean Absolute Error for prediction : 2548.424175609755\n",
      "Mean Squared Error for prediction : 8586171.259830242\n",
      "Root Mean Squared Error for prediction : 2930.2169305070643\n",
      "Prediksi nomor lotre selanjutnya: [[4809. 4901. 5191. 5433. 4856.]] \n",
      "\n",
      "Mean Absolute Error for prediction : 2552.4819219512196\n",
      "Mean Squared Error for prediction : 8592501.220514048\n",
      "Root Mean Squared Error for prediction : 2931.29684960668\n",
      "Prediksi nomor lotre selanjutnya: [[4780. 4725. 5135. 5179. 4652.]] \n",
      "\n",
      "Mean Absolute Error for prediction : 2536.35607804878\n",
      "Mean Squared Error for prediction : 8541303.665139902\n",
      "Root Mean Squared Error for prediction : 2922.550883242224\n",
      "Prediksi nomor lotre selanjutnya: [[5747. 4622. 4579. 4920. 4932.]] \n",
      "\n",
      "Mean Absolute Error for prediction : 2528.8871902439014\n",
      "Mean Squared Error for prediction : 8509751.79081649\n",
      "Root Mean Squared Error for prediction : 2917.147886346609\n",
      "Prediksi nomor lotre selanjutnya: [[4995. 5101. 4989. 5180. 4630.]] \n",
      "\n",
      "Mean Absolute Error for prediction : 2542.3737170731715\n",
      "Mean Squared Error for prediction : 8607417.543910438\n",
      "Root Mean Squared Error for prediction : 2933.840067882099\n",
      "Prediksi nomor lotre selanjutnya: [[4508. 4724. 5095. 4822. 4770.]] \n",
      "\n",
      "Mean Absolute Error for prediction : 2558.9968878048776\n",
      "Mean Squared Error for prediction : 8676209.637170244\n",
      "Root Mean Squared Error for prediction : 2945.5406358035943\n",
      "Prediksi nomor lotre selanjutnya: [[4918. 4887. 4934. 5039. 4958.]] \n",
      "\n"
     ]
    }
   ],
   "source": [
    "win = 50\n",
    "n_pred = 5\n",
    "train_dat = data.sort_values('PERIODE')['NOMOR KELUAR']\n",
    "# Get the last 100 numbers\n",
    "new_data = train_dat[:1077]\n",
    "tes = train_dat\n",
    "tes = tes[1077:]\n",
    "# tes = tes.head(99)\n",
    "last_numbers = np.array(tes)\n",
    "\n",
    "# Ensure last_numbers has the correct size for prediction\n",
    "if last_numbers.shape[0] >= win:\n",
    "    # Reshape to (1, i) to match the input shape for the model\n",
    "    last_numbers = last_numbers[-win:].reshape(1, -1)  # Take the last i numbers\n",
    "else:\n",
    "    raise ValueError(\"Not enough numbers to make a prediction.\")\n",
    "\n",
    "print(last_numbers,'\\n\\n')\n",
    "\n",
    "model = RandomForestRegressor()\n",
    "\n",
    "\n",
    "for i in range(10):\n",
    "    X, y = create_sliding_window(new_data, window_size=win, n_predictions=n_pred)\n",
    "    X_train, X_test, y_train, y_test = train_test_split(X, y, test_size=0.2, random_state=42)\n",
    "    model.fit(X_train, y_train)\n",
    "    y_pred = model.predict(X_test)\n",
    "    matrices(y_test,y_pred)\n",
    "    predicted_number = model.predict(last_numbers)\n",
    "    print(\"Prediksi nomor lotre selanjutnya:\", predicted_number.round(),\"\\n\")"
   ]
  },
  {
   "cell_type": "code",
   "execution_count": 19,
   "metadata": {},
   "outputs": [
    {
     "name": "stdout",
     "output_type": "stream",
     "text": [
      "1176    3570\n",
      "1175    6353\n",
      "1174    2805\n",
      "1173    8920\n",
      "1172    4359\n",
      "        ... \n",
      "4       3321\n",
      "3       8436\n",
      "2       8122\n",
      "1       6330\n",
      "0       3558\n",
      "Name: NOMOR KELUAR, Length: 1177, dtype: int64\n",
      "       0   1   2   3   4   5   6\n",
      "1176  37  70  03  53  05  57  75\n",
      "1175  53  56  65  36  63  35  33\n",
      "1174  28  58  82  05  20  80  52\n",
      "1173  28  82  02  89  92  98  20\n",
      "1172  53  95  54  45  43  59  49\n",
      "...   ..  ..  ..  ..  ..  ..  ..\n",
      "4     21  32  23  12  31  13  33\n",
      "3     38  84  36  48  86  46  43\n",
      "2     28  82  81  21  18  12  22\n",
      "1     06  60  36  63  03  30  33\n",
      "0     38  58  53  85  55  35  83\n",
      "\n",
      "[1177 rows x 7 columns]\n"
     ]
    },
    {
     "name": "stderr",
     "output_type": "stream",
     "text": [
      "C:\\Users\\alam\\AppData\\Local\\Temp\\ipykernel_127860\\484736143.py:4: SettingWithCopyWarning: \n",
      "A value is trying to be set on a copy of a slice from a DataFrame\n",
      "\n",
      "See the caveats in the documentation: https://pandas.pydata.org/pandas-docs/stable/user_guide/indexing.html#returning-a-view-versus-a-copy\n",
      "  pick_dat['kombinasi'] = pick_dat.apply(generate_combinations)\n"
     ]
    }
   ],
   "source": [
    "pick_dat = data['NOMOR KELUAR']\n",
    "\n",
    "print(pick_dat)\n",
    "pick_dat['kombinasi'] = pick_dat.apply(generate_combinations)\n",
    "kombinasi_df = pick_dat['kombinasi'].apply(pd.Series)\n",
    "\n",
    "print(kombinasi_df)\n",
    "kombinasi_df.to_excel('dataset/togel7.xlsx',index=False)"
   ]
  },
  {
   "cell_type": "code",
   "execution_count": 20,
   "metadata": {},
   "outputs": [
    {
     "name": "stdout",
     "output_type": "stream",
     "text": [
      "0      0\n",
      "1      1\n",
      "2      6\n",
      "3     52\n",
      "4     74\n",
      "5     74\n",
      "6    161\n",
      "dtype: int64\n",
      "after fill:\n",
      " 0    0\n",
      "1    0\n",
      "2    0\n",
      "3    0\n",
      "4    0\n",
      "5    0\n",
      "6    0\n",
      "dtype: int64\n"
     ]
    }
   ],
   "source": [
    "nomor = pd.read_excel(\"dataset/togel7.xlsx\")\n",
    "print(nomor.isna().sum())\n",
    "\n",
    "nomor =  nomor.fillna(0)\n",
    "\n",
    "print('after fill:\\n',nomor.isna().sum())\n",
    "\n",
    "data_flat = nomor.apply(lambda row: np.array(row), axis=1)\n",
    "data_flat = np.vstack(data_flat)  # Convert to a 2D array"
   ]
  },
  {
   "cell_type": "code",
   "execution_count": 23,
   "metadata": {},
   "outputs": [
    {
     "name": "stdout",
     "output_type": "stream",
     "text": [
      "(1067, 7)\n",
      "(110, 7)\n",
      "Mean Absolute Error for prediction : 25.962225193525686\n",
      "Mean Squared Error for prediction : 888.9804592118227\n",
      "Root Mean Squared Error for prediction : 29.81577534145008\n",
      "Prediksi nomor lotre selanjutnya: [41. 42. 43. 44. 45. 46. 47. 48. 49. 50. 52. 53. 54. 56. 57. 58.]\n"
     ]
    }
   ],
   "source": [
    "i = 50\n",
    "# new_data is 1060 data head \n",
    "new_data = data_flat[:1067]\n",
    "print(new_data.shape)\n",
    "# tes data is for making prediction... it is the last 100 data\n",
    "tes = data_flat[1067:]\n",
    "print(tes.shape)\n",
    "tes = tes[-i:].flatten().reshape(1, -1)\n",
    "\n",
    "X, y = create_sliding_window7(new_data, window_size=i, n_predictions=5)\n",
    "X_train, X_test, y_train, y_test = train_test_split(X, y, test_size=0.2, random_state=42)\n",
    "\n",
    "# Train the model\n",
    "model = RandomForestRegressor()\n",
    "model.fit(X_train, y_train)\n",
    "\n",
    "# Predict using the test set\n",
    "y_pred = model.predict(X_test)\n",
    "matrices(y_test, y_pred)\n",
    "\n",
    "# Predict the next number using last_numbers\n",
    "predicted_number = model.predict(tes)\n",
    "predicted_number = np.unique(predicted_number.round()) \n",
    "print(\"Prediksi nomor lotre selanjutnya:\", predicted_number)"
   ]
  },
  {
   "cell_type": "code",
   "execution_count": 24,
   "metadata": {},
   "outputs": [
    {
     "name": "stdout",
     "output_type": "stream",
     "text": [
      "Digit 4 muncul 11 kali\n",
      "Digit 1 muncul 1 kali\n",
      "Digit 0 muncul 1 kali\n",
      "Digit 2 muncul 2 kali\n",
      "Digit 3 muncul 2 kali\n",
      "Digit 5 muncul 8 kali\n",
      "Digit 6 muncul 2 kali\n",
      "Digit 7 muncul 2 kali\n",
      "Digit 8 muncul 2 kali\n",
      "Digit 9 muncul 1 kali\n"
     ]
    }
   ],
   "source": [
    "from collections import Counter\n",
    "\n",
    "# Array hasil prediksi\n",
    "arr = predicted_number\n",
    "\n",
    "# Uraikan setiap angka menjadi digit terpisah\n",
    "all_digits = [int(digit) for number in arr for digit in str(number) if digit.isdigit()]\n",
    "\n",
    "# Menghitung jumlah kemunculan setiap digit\n",
    "digit_count = Counter(all_digits)\n",
    "\n",
    "# Cetak hasilnya\n",
    "for digit, freq in digit_count.items():\n",
    "    if digit == 0 :\n",
    "        freq = freq - len(predicted_number)\n",
    "    print(f\"Digit {digit} muncul {freq} kali\")"
   ]
  }
 ],
 "metadata": {
  "kernelspec": {
   "display_name": "Python 3",
   "language": "python",
   "name": "python3"
  },
  "language_info": {
   "codemirror_mode": {
    "name": "ipython",
    "version": 3
   },
   "file_extension": ".py",
   "mimetype": "text/x-python",
   "name": "python",
   "nbconvert_exporter": "python",
   "pygments_lexer": "ipython3",
   "version": "3.11.5"
  }
 },
 "nbformat": 4,
 "nbformat_minor": 2
}
